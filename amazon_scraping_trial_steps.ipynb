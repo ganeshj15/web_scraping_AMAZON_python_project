{
 "cells": [
  {
   "cell_type": "code",
   "execution_count": null,
   "id": "4c993c7e",
   "metadata": {},
   "outputs": [],
   "source": [
    "from bs4 import BeautifulSoup\n",
    "import requests\n",
    "import pandas as pd  "
   ]
  },
  {
   "cell_type": "code",
   "execution_count": null,
   "id": "50f1d5ec",
   "metadata": {},
   "outputs": [],
   "source": [
    "URL = \"https://www.amazon.in/s?k=mobile+phone&ref=nb_sb_noss\""
   ]
  },
  {
   "cell_type": "markdown",
   "id": "ba4163c9",
   "metadata": {},
   "source": [
    "#### Headers for request"
   ]
  },
  {
   "cell_type": "code",
   "execution_count": null,
   "id": "b168d18b",
   "metadata": {},
   "outputs": [],
   "source": [
    "HEADERS = ({'User-Agent':'Mozilla/5.0 (Windows NT 10.0; Win64; x64) AppleWebKit/537.36 (KHTML, like Gecko) Chrome/108.0.0.0 Safari/537.36', 'Accept-Language': 'en-US, en;q= 0.5'})"
   ]
  },
  {
   "cell_type": "markdown",
   "id": "89f90d18",
   "metadata": {},
   "source": [
    "#### HTTP request to url"
   ]
  },
  {
   "cell_type": "code",
   "execution_count": null,
   "id": "fc5f7369",
   "metadata": {},
   "outputs": [],
   "source": [
    "webpage = requests.get(URL, headers = HEADERS)"
   ]
  },
  {
   "cell_type": "code",
   "execution_count": null,
   "id": "b95fb3bd",
   "metadata": {},
   "outputs": [],
   "source": [
    "webpage.content"
   ]
  },
  {
   "cell_type": "markdown",
   "id": "f3b59c14",
   "metadata": {},
   "source": [
    "#### convert web content from bytes type to html type"
   ]
  },
  {
   "cell_type": "code",
   "execution_count": null,
   "id": "21fdce5e",
   "metadata": {},
   "outputs": [],
   "source": [
    "soup = BeautifulSoup(webpage.content, 'html.parser')"
   ]
  },
  {
   "cell_type": "code",
   "execution_count": null,
   "id": "3fd6ebd3",
   "metadata": {},
   "outputs": [],
   "source": [
    "soup"
   ]
  },
  {
   "cell_type": "markdown",
   "id": "62055ef3",
   "metadata": {},
   "source": [
    "##### Fetch links as list of Tag objects( class a/anchor header in html page of amazon)"
   ]
  },
  {
   "cell_type": "code",
   "execution_count": null,
   "id": "fe06a439",
   "metadata": {},
   "outputs": [],
   "source": [
    "links = soup.find_all(\"a\",attrs= {'class':'a-link-normal s-underline-text s-underline-link-text s-link-style a-text-normal'})"
   ]
  },
  {
   "cell_type": "code",
   "execution_count": null,
   "id": "708ecbfd",
   "metadata": {},
   "outputs": [],
   "source": [
    "link1 = links[0].get('href')"
   ]
  },
  {
   "cell_type": "code",
   "execution_count": null,
   "id": "dfd13da8",
   "metadata": {},
   "outputs": [],
   "source": [
    "product_list = \"https://amazon.in\"+link1\n",
    "product_list"
   ]
  },
  {
   "cell_type": "code",
   "execution_count": null,
   "id": "e6ed9b85",
   "metadata": {},
   "outputs": [],
   "source": [
    "new_webpage = requests.get(product_list, headers = HEADERS)"
   ]
  },
  {
   "cell_type": "code",
   "execution_count": null,
   "id": "80659c39",
   "metadata": {},
   "outputs": [],
   "source": [
    "new_webpage"
   ]
  },
  {
   "cell_type": "code",
   "execution_count": null,
   "id": "d6b5523e",
   "metadata": {},
   "outputs": [],
   "source": [
    "new_soup = BeautifulSoup(new_webpage.content, 'html.parser')\n",
    "new_soup"
   ]
  },
  {
   "cell_type": "code",
   "execution_count": null,
   "id": "d3ade4a3",
   "metadata": {},
   "outputs": [],
   "source": [
    "new_soup.find(\"span\",attrs= {'id':'productTitle'}).text.strip()"
   ]
  },
  {
   "cell_type": "code",
   "execution_count": null,
   "id": "eadefeda",
   "metadata": {},
   "outputs": [],
   "source": [
    "new_soup.find(\"span\",attrs= {'class':'a-price aok-align-center reinventPricePriceToPayMargin priceToPay'}).find(\"span\",attrs= {'class':'a-offscreen'}).text[1:]\n"
   ]
  },
  {
   "cell_type": "code",
   "execution_count": null,
   "id": "b7727638",
   "metadata": {},
   "outputs": [],
   "source": [
    "new_soup.find('i',attrs={'class':\"a-icon a-icon-star a-star-4\"}).text"
   ]
  },
  {
   "cell_type": "code",
   "execution_count": null,
   "id": "211f47b5",
   "metadata": {},
   "outputs": [],
   "source": [
    "new_soup.find(\"span\", attrs={'class':'a-icon-alt'}).text"
   ]
  },
  {
   "cell_type": "code",
   "execution_count": null,
   "id": "f8a2f169",
   "metadata": {},
   "outputs": [],
   "source": [
    "new_soup.find('table',attrs={'id':'productDetails_techSpec_section_1'}).text"
   ]
  },
  {
   "cell_type": "code",
   "execution_count": null,
   "id": "acbecaf9",
   "metadata": {},
   "outputs": [],
   "source": [
    "# spec\n",
    "new_soup.find('div',attrs={'id':'feature-bullets'}).text"
   ]
  },
  {
   "cell_type": "code",
   "execution_count": null,
   "id": "67e0250c",
   "metadata": {},
   "outputs": [],
   "source": [
    "# EMI\n",
    "emi_string = new_soup.find('span',attrs={'class':'a-hidden'}).text.strip('EMI starts at u\"\\u20B9')\n",
    "emi_value = emi_string.split()\n",
    "emi_value[0]"
   ]
  },
  {
   "cell_type": "code",
   "execution_count": null,
   "id": "a83d66a2",
   "metadata": {},
   "outputs": [],
   "source": [
    "# MRP\n",
    "new_soup.find('span',attrs={'class':'a-price a-text-price'}).find('span',attrs= {'class':'a-offscreen'}).text"
   ]
  },
  {
   "cell_type": "code",
   "execution_count": null,
   "id": "4c306615",
   "metadata": {},
   "outputs": [],
   "source": [
    "# Discount \n",
    "new_soup.find('span',attrs={'class':'a-size-large a-color-price savingPriceOverride aok-align-center reinventPriceSavingsPercentageMargin savingsPercentage'}).text.strip('-')"
   ]
  },
  {
   "cell_type": "code",
   "execution_count": null,
   "id": "5bdbb005",
   "metadata": {},
   "outputs": [],
   "source": [
    "print(u'\\u20B9')"
   ]
  }
 ],
 "metadata": {
  "kernelspec": {
   "display_name": "Python 3 (ipykernel)",
   "language": "python",
   "name": "python3"
  },
  "language_info": {
   "codemirror_mode": {
    "name": "ipython",
    "version": 3
   },
   "file_extension": ".py",
   "mimetype": "text/x-python",
   "name": "python",
   "nbconvert_exporter": "python",
   "pygments_lexer": "ipython3",
   "version": "3.9.13"
  }
 },
 "nbformat": 4,
 "nbformat_minor": 5
}
